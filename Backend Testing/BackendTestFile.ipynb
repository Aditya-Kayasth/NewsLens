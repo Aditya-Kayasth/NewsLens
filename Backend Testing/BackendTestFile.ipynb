{
 "cells": [
  {
   "cell_type": "code",
   "execution_count": 1,
   "id": "cd452b6c-0c83-468f-b1c7-4d76b7a8337b",
   "metadata": {},
   "outputs": [
    {
     "name": "stderr",
     "output_type": "stream",
     "text": [
      "C:\\Users\\arman\\AppData\\Roaming\\Python\\Python313\\site-packages\\tqdm\\auto.py:21: TqdmWarning: IProgress not found. Please update jupyter and ipywidgets. See https://ipywidgets.readthedocs.io/en/stable/user_install.html\n",
      "  from .autonotebook import tqdm as notebook_tqdm\n"
     ]
    }
   ],
   "source": [
    "import os\n",
    "import requests\n",
    "from dotenv import load_dotenv\n",
    "from transformers import pipeline\n",
    "\n",
    "# Load environment variables from .env file\n",
    "load_dotenv()\n",
    "\n",
    "# Load News API Key\n",
    "NEWS_API_KEY = os.getenv('NEWS_API_KEY')\n",
    "if not NEWS_API_KEY:\n",
    "    raise ValueError(\"NEWS_API_KEY is not set in the environment variables\")"
   ]
  },
  {
   "cell_type": "code",
   "execution_count": 2,
   "id": "3731fc01-2a4f-427a-9af0-de7434da3f14",
   "metadata": {},
   "outputs": [
    {
     "name": "stderr",
     "output_type": "stream",
     "text": [
      "Device set to use cpu\n",
      "Device set to use cpu\n",
      "Device set to use cpu\n"
     ]
    }
   ],
   "source": [
    "# Pipelines for sentiment analysis, summarization, and bias detection\n",
    "sentiment_analysis = pipeline(\n",
    "    'sentiment-analysis', \n",
    "    model=\"nlptown/bert-base-multilingual-uncased-sentiment\"\n",
    ")\n",
    "summarizer = pipeline(\n",
    "    'summarization', \n",
    "    model=\"facebook/bart-large-cnn\"\n",
    ")\n",
    "bias_detector = pipeline(\n",
    "    \"zero-shot-classification\", \n",
    "    model=\"facebook/bart-large-mnli\"\n",
    ")"
   ]
  },
  {
   "cell_type": "code",
   "execution_count": 3,
   "id": "cf25430e-97df-4a7a-bcf3-8519a33d6ce9",
   "metadata": {},
   "outputs": [],
   "source": [
    "def fetch_news(domain):\n",
    "    \"\"\"Fetch news articles from NewsAPI for a given domain.\"\"\"\n",
    "    url = f'https://newsapi.org/v2/top-headlines?category={domain}&apiKey={NEWS_API_KEY}'\n",
    "    response = requests.get(url)\n",
    "    return response.json()\n",
    "\n",
    "def analyze_bias(article_text):\n",
    "    \"\"\"Analyze bias using zero-shot classification with candidate labels.\"\"\"\n",
    "    labels = [\"left-leaning\", \"right-leaning\", \"neutral\"]\n",
    "    result = bias_detector(article_text, candidate_labels=labels)\n",
    "    return result\n",
    "\n",
    "def compute_credibility_score(article_text):\n",
    "    \"\"\"\n",
    "    Compute a credibility score based on:\n",
    "      - Bias neutrality (weighted at 90%).\n",
    "      - Sentiment balance (weighted at 10%).\n",
    "    This adjustment increases the overall score if the article is neutral.\n",
    "    The score is scaled to a percentage.\n",
    "    \"\"\"\n",
    "    bias_result = bias_detector(article_text, candidate_labels=[\"left-leaning\", \"right-leaning\", \"neutral\"])\n",
    "    neutral_score = 0\n",
    "    for label, score in zip(bias_result['labels'], bias_result['scores']):\n",
    "        if label.lower() == \"neutral\":\n",
    "            neutral_score = score\n",
    "            break\n",
    "\n",
    "    sentiment_result = sentiment_analysis(article_text)[0]\n",
    "    try:\n",
    "        # Expecting a label like \"4 stars\"\n",
    "        star_rating = int(sentiment_result['label'][0])\n",
    "    except (ValueError, IndexError):\n",
    "        star_rating = 3  # Default to neutral if parsing fails\n",
    "\n",
    "    # Calculate how close the rating is to neutral (3 stars)\n",
    "    sentiment_balance = 1 - (abs(star_rating - 3) / 2)  # Normalized between 0 and 1\n",
    "\n",
    "    # Increase weight on neutrality to boost credibility for neutral reporting\n",
    "    credibility = (neutral_score * 0.9 + sentiment_balance * 0.1) * 100\n",
    "    return round(credibility, 2)\n",
    "\n",
    "def compare_articles(domain):\n",
    "    \"\"\"\n",
    "    For each article in the specified domain:\n",
    "      - Summarize its content if it's at least 50 words long.\n",
    "      - Analyze bias.\n",
    "      - Compute a credibility score.\n",
    "    Returns a list of dictionaries with these details.\n",
    "    \"\"\"\n",
    "    news = fetch_news(domain)\n",
    "    articles = news.get('articles', [])\n",
    "    comparison = []\n",
    "    \n",
    "    for article in articles:\n",
    "        # Use article 'content' if available, otherwise 'description'\n",
    "        text = article.get('content') or article.get('description') or \"\"\n",
    "        if not text:\n",
    "            continue\n",
    "        \n",
    "        # Check if the article text is less than 50 words\n",
    "        word_count = len(text.split())\n",
    "        \n",
    "        if word_count < 50:\n",
    "            summary = text  # Use the text as it is\n",
    "        else:\n",
    "            try:\n",
    "                summary = summarizer(text, max_length=50, min_length=25, do_sample=False)[0]['summary_text']\n",
    "            except Exception:\n",
    "                summary = \"Summary not available.\"\n",
    "        \n",
    "        bias = analyze_bias(text)\n",
    "        credibility = compute_credibility_score(text)\n",
    "        \n",
    "        comparison.append({\n",
    "            \"title\": article.get(\"title\"),\n",
    "            \"source\": article.get(\"source\", {}).get(\"name\"),\n",
    "            \"summary\": summary,\n",
    "            \"bias\": bias,\n",
    "            \"credibility_score\": credibility\n",
    "        })\n",
    "    \n",
    "    return comparison\n",
    "\n",
    "def aggregate_and_summarize_articles(domain, credibility_threshold=50):\n",
    "    \"\"\"\n",
    "    Aggregates articles from multiple sources in the given domain.\n",
    "      - Filters out articles with a credibility score below the threshold (to discard fake news).\n",
    "      - Concatenates the remaining articles into one aggregated text.\n",
    "      - Summarizes the aggregated text to produce a single, balanced summary.\n",
    "      - Computes overall bias and an average credibility score.\n",
    "    \"\"\"\n",
    "    news = fetch_news(domain)\n",
    "    articles = news.get(\"articles\", [])\n",
    "    valid_texts = []\n",
    "    for article in articles:\n",
    "        text = article.get(\"content\") or article.get(\"description\") or \"\"\n",
    "        if not text:\n",
    "            continue\n",
    "        cred = compute_credibility_score(text)\n",
    "        if cred >= credibility_threshold:\n",
    "            valid_texts.append(text)\n",
    "    if not valid_texts:\n",
    "        return {\"error\": \"No credible articles found.\"}\n",
    "    \n",
    "    # Aggregate valid articles into one combined text\n",
    "    aggregated_text = \" \".join(valid_texts)\n",
    "    try:\n",
    "        summary = summarizer(aggregated_text, max_length=150, min_length=100, do_sample=False)[0]['summary_text']\n",
    "    except Exception as e:\n",
    "        summary = \"Summary not available: \" + str(e)\n",
    "    \n",
    "    overall_bias = analyze_bias(aggregated_text)\n",
    "    avg_credibility = sum([compute_credibility_score(text) for text in valid_texts]) / len(valid_texts)\n",
    "    return {\n",
    "        \"aggregated_summary\": summary,\n",
    "        \"overall_bias\": overall_bias,\n",
    "        \"average_credibility_score\": round(avg_credibility, 2),\n",
    "        \"articles_count\": len(valid_texts)\n",
    "    }\n",
    "\n",
    "def news_app_interaction(action, domain=\"general\", article_text=None, credibility_threshold=50):\n",
    "    \"\"\"\n",
    "    Main interface for testing actions:\n",
    "      - fetch_news: Retrieves raw articles from a specified domain.\n",
    "      - summarize: Summarizes the provided article text.\n",
    "      - bias: Performs bias analysis on the provided article text.\n",
    "      - credibility: Computes the credibility score for the provided article text.\n",
    "      - compare: Provides summaries, bias, and credibility for each article.\n",
    "      - aggregate: Aggregates articles from multiple sources, filters out low credibility (fake) news,\n",
    "                   and produces a final aggregated summary.\n",
    "    \"\"\"\n",
    "    if action == \"fetch_news\":\n",
    "        return fetch_news(domain)\n",
    "    elif action == \"summarize\":\n",
    "        if not article_text:\n",
    "            return {\"error\": \"Article text is required for summarization\"}\n",
    "        summary = summarizer(article_text, max_length=100, min_length=50, do_sample=False)\n",
    "        return {\"summary\": summary[0]['summary_text']}\n",
    "    elif action == \"bias\":\n",
    "        if not article_text:\n",
    "            return {\"error\": \"Article text is required for bias detection\"}\n",
    "        return {\"bias\": analyze_bias(article_text)}\n",
    "    elif action == \"credibility\":\n",
    "        if not article_text:\n",
    "            return {\"error\": \"Article text is required for credibility scoring\"}\n",
    "        return {\"credibility_score\": compute_credibility_score(article_text)}\n",
    "    elif action == \"compare\":\n",
    "        return {\"comparison\": compare_articles(domain)}\n",
    "    elif action == \"aggregate\":\n",
    "        return {\"aggregated_result\": aggregate_and_summarize_articles(domain, credibility_threshold)}\n",
    "    else:\n",
    "        return {\"error\": \"Invalid action specified\"}\n",
    "\n"
   ]
  },
  {
   "cell_type": "code",
   "execution_count": 4,
   "id": "71e711c2-a99f-4081-bb62-087c4b07a56f",
   "metadata": {},
   "outputs": [
    {
     "name": "stdout",
     "output_type": "stream",
     "text": [
      "Fetched News:\n",
      "{'status': 'ok', 'totalResults': 17, 'articles': [{'source': {'id': None, 'name': '9to5google.com'}, 'author': 'Ben Schoon', 'title': 'Nothing Phone (3a) and Phone (3a) Pro leak in full [Gallery] - 9to5Google', 'description': 'Images of the Nothing Phone (3a) and Phone (3a) Pro have hit the web, revealing the new design in full of both devices.', 'url': 'http://9to5google.com/2025/02/20/nothing-phone-3a-series-images-leak/', 'urlToImage': 'https://i0.wp.com/9to5google.com/wp-content/uploads/sites/4/2025/02/nothing-phone-3a-series-ah-leak-1.jpg?resize=1200%2C628&quality=82&strip=all&ssl=1', 'publishedAt': '2025-02-21T02:01:00Z', 'content': 'Ahead of the March 4 launch, a full collection of images of the both the Nothing Phone (3a) and Phone (3a) Pro have hit the web, seemingly revealing the full design and core specs.\\r\\nNothing has been … [+1958 chars]'}, {'source': {'id': None, 'name': '9to5Mac'}, 'author': 'Michael Burkhardt', 'title': 'Here’s how the iPhone 16e compares to iPhone 12, 13, and more - 9to5Mac', 'description': 'Brought to you by Uniq:\\xa0Check out the new rugged cases from Uniq including the glow in the dark Combat Active...', 'url': 'https://9to5mac.com/2025/02/20/iphone-16e-comparison-previous-iphones/', 'urlToImage': 'https://i0.wp.com/9to5mac.com/wp-content/uploads/sites/6/2025/02/iphone-16e-vs-12.jpg?resize=1200%2C628&quality=82&strip=all&ssl=1', 'publishedAt': '2025-02-21T00:44:00Z', 'content': 'Brought to you by Uniq:\\xa0Check out the new rugged cases from Uniq including the glow in the dark Combat Active iPhone case featuring a textured grip for ultimate control and a reflective lanyard. And … [+7223 chars]'}, {'source': {'id': None, 'name': 'GSMArena.com'}, 'author': 'Vlad', 'title': \"All iPhone 17 models to use Apple's in-house Wi-Fi chip - GSMArena.com news - GSMArena.com\", 'description': \"And the iPhone 17 Air is also said to employ the C1 modem. Apple launched the iPhone 16e yesterday, and the device features Apple's first ever...\", 'url': 'https://www.gsmarena.com/all_iphone_17_models_to_use_apples_inhouse_wifi_chip-news-66640.php', 'urlToImage': 'https://fdn.gsmarena.com/imgroot/news/25/02/iphone-17-family-apple-wi-fi-chip/-952x498w6/gsmarena_000.jpg', 'publishedAt': '2025-02-21T00:11:02Z', 'content': \"Apple launched the iPhone 16e yesterday, and the device features Apple's first ever self-developed 5G modem, replacing the Qualcomm modems in other iPhones. Apple will allegedly continue this trend o… [+991 chars]\"}, {'source': {'id': None, 'name': 'TechSpot'}, 'author': 'Cal Jeffrey', 'title': 'Research shows AI will try to cheat if it realizes it is about to lose - TechSpot', 'description': 'A Palisade Research study found that the newest reasoning models will cheat to win when tasked with defeating an advanced chess AI. The researchers had to give...', 'url': 'https://www.techspot.com/news/106858-research-shows-ai-cheat-if-realizes-about-lose.html', 'urlToImage': 'https://www.techspot.com/images2/news/bigimage/2025/02/2025-02-20-image-39.jpg', 'publishedAt': '2025-02-20T22:48:00Z', 'content': \"Surprise! A recent study showed that some of the newest AI reasoning models aren't above cheating to achieve a goal. Computer scientists found that AI systems can now manipulate chess AIs to gain an … [+3351 chars]\"}, {'source': {'id': None, 'name': 'Phys.Org'}, 'author': 'Sonia Fernandez', 'title': 'Topological quantum processor uses Majorana zero modes for fault-tolerant computing - Phys.org', 'description': \"In a leap forward for quantum computing, a Microsoft team led by UC Santa Barbara physicists on Wednesday unveiled an eight-qubit topological quantum processor, the first of its kind. The chip, built as a proof-of-concept for the scientists' design, opens the…\", 'url': 'https://phys.org/news/2025-02-topological-quantum-processor-majorana-modes.html', 'urlToImage': 'https://scx2.b-cdn.net/gfx/news/hires/2025/topological-quantum-pr.jpg', 'publishedAt': '2025-02-20T21:28:03Z', 'content': 'In a leap forward for quantum computing, a Microsoft team led by UC Santa Barbara physicists on Wednesday unveiled an eight-qubit topological quantum processor, the first of its kind. The chip, built… [+5974 chars]'}, {'source': {'id': 'ars-technica', 'name': 'Ars Technica'}, 'author': 'Andrew Cunningham', 'title': 'Nvidia GeForce RTX 5070 Ti review: An RTX 4080 for $749, at least in theory - Ars Technica', 'description': 'It’s hard to review a product if you don’t know what it will actually cost!', 'url': 'https://arstechnica.com/gadgets/2025/02/nvidia-geforce-rtx-5070-ti-review-an-rtx-4080-for-749-at-least-in-theory/', 'urlToImage': 'https://cdn.arstechnica.net/wp-content/uploads/2025/02/IMG_2659-1152x648-1740079264.jpeg', 'publishedAt': '2025-02-20T20:57:45Z', 'content': None}, {'source': {'id': None, 'name': 'Thegamepost.com'}, 'author': None, 'title': 'Destiny 2 Officially Makes Exotic Glaives and Swords Bug a Permanent Feature - TheGamePost', 'description': 'Bungie has confirmed that Exotic Glaives and class-based Swords will remain unlocked across all classes in Destiny 2.', 'url': 'https://thegamepost.com/bungie-exotic-glaives-swords-bug-feature-destiny-2/', 'urlToImage': 'https://thegamepost.com/wp-content/uploads/2025/02/bungie-exotic-glaives-swords-bug-feature-destiny-2-6.webp', 'publishedAt': '2025-02-20T19:24:30Z', 'content': 'Bungie has confirmed that Exotic Glaives and class-based Swords will remain unlocked across all classes in Destiny 2.\\r\\nDestiny 2s latest episode, Heresy, has brought plenty of fresh content for playe… [+2393 chars]'}, {'source': {'id': 'techcrunch', 'name': 'TechCrunch'}, 'author': 'Maxwell Zeff', 'title': 'Inside the Humane acquisition: HP offers big raises to some, others immediately laid off - TechCrunch', 'description': 'Hours after the acquisition was announced, several Humane employees received job offers. Others were not so lucky.', 'url': 'https://techcrunch.com/2025/02/20/inside-the-humane-acquisition-hp-offers-big-raises-to-some-others-immediately-laid-off/', 'urlToImage': 'https://techcrunch.com/wp-content/uploads/2023/06/5e69404b54f25c0e5156dc45-transformed-e1688752654432.webp?resize=1200,675', 'publishedAt': '2025-02-20T17:50:34Z', 'content': 'Humane, formerly one of Silicon Valley’s buzziest AI hardware startups, announced on Tuesday it was being partially acquired by HP for $116 million, which is less than half of the $240 million the st… [+5473 chars]'}, {'source': {'id': None, 'name': 'MacRumors'}, 'author': 'Tim Hardwick', 'title': \"World's Thinnest Foldable Phone Launches in Europe and Asia - MacRumors\", 'description': \"Oppo has launched the Find N5, the world's thinnest foldable phone yet. When closed, the book-style foldable measures 8.93mm. That's less...\", 'url': 'https://www.macrumors.com/2025/02/20/worlds-thinnest-foldable-launches/', 'urlToImage': 'https://images.macrumors.com/t/QoliCcIVo77N0WSXrielvwWcZdk=/1920x/article-new/2025/02/oppo-find-n5-fingers.jpg', 'publishedAt': '2025-02-20T16:55:10Z', 'content': \"Oppo has launched the Find N5, the world's thinnest foldable phone yet. When closed, the book-style foldable measures 8.93mm. That's less than a millimeter thicker than an iPhone 16 Pro, and thinner … [+2322 chars]\"}, {'source': {'id': 'the-verge', 'name': 'The Verge'}, 'author': 'Andrew Liszewski', 'title': 'Leaked details reveal potential pricing for Lego’s Nintendo Game Boy - The Verge', 'description': 'Leaked details potentially reveal a $59.99 price tag for Lego’s upcoming buildable Nintendo Game Boy set.', 'url': 'https://www.theverge.com/news/616514/nintendo-lego-game-boy-release-date-pricing-leak', 'urlToImage': 'https://platform.theverge.com/wp-content/uploads/sites/2/2025/02/lego_gameboy.jpg?quality=90&strip=all&crop=0,10.70948518146,100,78.58102963708', 'publishedAt': '2025-02-20T15:50:04Z', 'content': 'We still dont know what Legos brick-built Nintendo Game Boy will look like, but it might not break the bank.\\r\\nWe still dont know what Legos brick-built Nintendo Game Boy will look like, but it might … [+1441 chars]'}, {'source': {'id': None, 'name': 'Rockstargames.com'}, 'author': 'Rockstar Games', 'title': 'Free Upgrade for Grand Theft Auto V on PC Coming March 4 - Rockstar Games', 'description': 'On March 4, Grand Theft Auto V on PC is getting a free upgrade featuring sought-after enhancements previously only available in the PS5 and Xbox Series X|S versions of GTA Online — including all the latest vehicles and performance upgrades available at...', 'url': 'https://www.rockstargames.com/newswire/article/akk98a4o755825/free-upgrade-for-grand-theft-auto-v-on-pc-coming-march-4', 'urlToImage': 'https://media-rockstargames-com.akamaized.net/tina-uploads/posts/akk98a4o755825/5e6f14bf3b02e6f5342632d1dc08e5a7b4406c8c.jpg', 'publishedAt': '2025-02-20T15:16:31Z', 'content': None}, {'source': {'id': None, 'name': 'PCGamesN'}, 'author': 'Ben Stockton', 'title': 'Nvidia just made it easier to buy a new RTX 5090 or RTX 5080 gaming GPU - PCGamesN', 'description': 'The Verified Priority Access program will allow some users the chance to buy a new Nvidia GeForce RTX 5090 or RTX 5080 gaming GPU directly.', 'url': 'https://www.pcgamesn.com/nvidia/verified-priority-access-program', 'urlToImage': 'https://www.pcgamesn.com/wp-content/sites/pcgamesn/2025/02/rtx-5090-5080-priority-program.jpg', 'publishedAt': '2025-02-20T14:19:08Z', 'content': 'We may earn a commission when you buy through links in our articles. Learn more.\\r\\nThe Verified Priority Access program will allow some users the chance to buy a new Nvidia GeForce RTX 5090 or RTX 508… [+2603 chars]'}, {'source': {'id': None, 'name': 'MacRumors'}, 'author': 'Tim Hardwick', 'title': 'iPhone 15 Pro to Get Visual Intelligence in Future Update, Likely iOS 18.4 - MacRumors', 'description': \"Apple's new iPhone 16e, announced on Wednesday, supports Visual Intelligence despite having no Camera Control button, and now Apple has confirmed...\", 'url': 'https://www.macrumors.com/2025/02/20/visual-intelligence-coming-to-iphone-15-pro/', 'urlToImage': 'https://images.macrumors.com/t/FIgRxDFkL786G6eYw5cMXIy0_zc=/1920x/article-new/2024/10/Apple-Visual-Intelligence.jpg', 'publishedAt': '2025-02-20T14:03:23Z', 'content': \"Apple's new iPhone 16e, announced on Wednesday, supports Visual Intelligence despite having no Camera Control button, and now Apple has confirmed that the Apple Intelligence feature is coming to the … [+1385 chars]\"}, {'source': {'id': None, 'name': 'BBC News'}, 'author': None, 'title': 'AI cracks superbug problem in two days that took scientists years - BBC.com', 'description': 'The lead researcher has told the BBC he was so astounded he assumed his computer had been hacked.', 'url': 'https://www.bbc.com/news/articles/clyz6e9edy3o', 'urlToImage': 'https://ichef.bbci.co.uk/news/1024/branded_news/8222/live/b509f4d0-ef77-11ef-8506-65b5c425480e.jpg', 'publishedAt': '2025-02-20T12:08:28Z', 'content': 'Tom Gerken\\r\\nCases of tuberculosis (pictured) have increased in the UK and worldwide as the disease increases its resistance to antibiotics\\r\\nA complex problem that took microbiologists a decade to get… [+2992 chars]'}, {'source': {'id': None, 'name': 'Stanford.edu'}, 'author': None, 'title': 'Generative AI tool marks a milestone in biology - Stanford University News', 'description': 'Trained on a dataset that includes all known living species – and a few extinct ones – Evo 2 can predict the form and function of proteins in the DNA of all domains of life.', 'url': 'https://news.stanford.edu/stories/2025/02/generative-ai-tool-marks-a-milestone-in-biology-and-accelerates-the-future-of-life-sciences', 'urlToImage': 'https://news.stanford.edu/__data/assets/image/0029/165719/20250203_EVO_2_N6A1755.jpg', 'publishedAt': '2025-02-19T19:52:30Z', 'content': 'magineImagine being able to speed up evolution hypothetically to learn which genes might have a harmful or beneficial effect on human health. Imagine, further, being able to rapidly generate new gene… [+6619 chars]'}, {'source': {'id': None, 'name': 'Android Central'}, 'author': 'Brady Snyder', 'title': \"I've been using the Samsung Galaxy S25 for weeks — these are my favorite features - Android Central\", 'description': \"Samsung introduced a slew of new Galaxy and Google AI features on the Galaxy S25 series, and they don't disappoint.\", 'url': 'https://www.androidcentral.com/phones/samsung-galaxy-s25-first-things', 'urlToImage': 'https://cdn.mos.cms.futurecdn.net/Yh6bUfGy9n8ZzrhfyDaAJG-1200-80.jpg', 'publishedAt': '2025-02-19T10:20:36Z', 'content': \"The new Samsung Galaxy S25 series is arguably as much about fresh software features as it is about upgraded hardware. Yes, there's a new Snapdragon 8 Elite for Galaxy chipset and other improvements, … [+7961 chars]\"}]}\n"
     ]
    }
   ],
   "source": [
    "# 1. Fetch and display news for a given domain (e.g., technology)\n",
    "domain = \"technology\"\n",
    "news_data = news_app_interaction(\"fetch_news\", domain=domain)\n",
    "print(\"Fetched News:\")\n",
    "print(news_data)"
   ]
  },
  {
   "cell_type": "code",
   "execution_count": 5,
   "id": "4cd52dd9-d4c3-4f23-ba3c-bc42523ee718",
   "metadata": {},
   "outputs": [
    {
     "name": "stderr",
     "output_type": "stream",
     "text": [
      "Your max_length is set to 100, but your input_length is only 29. Since this is a summarization task, where outputs shorter than the input are typically wanted, you might consider decreasing max_length manually, e.g. summarizer('...', max_length=14)\n"
     ]
    },
    {
     "name": "stdout",
     "output_type": "stream",
     "text": [
      "\n",
      "Summarized Text:\n",
      "{'summary': 'Artificial intelligence is rapidly advancing, transforming industries and creating new opportunities. Experts believe AI will play a crucial role in the future of technology. Artificial intelligence will be used in a variety of industries, including finance, medicine, business and education.'}\n"
     ]
    }
   ],
   "source": [
    "# 2. Summarize a sample text\n",
    "sample_text = (\n",
    "    \"Artificial intelligence is rapidly advancing, transforming industries and creating new opportunities. \"\n",
    "    \"Experts believe AI will play a crucial role in the future of technology.\"\n",
    ")\n",
    "summarized_text = news_app_interaction(\"summarize\", article_text=sample_text)\n",
    "print(\"\\nSummarized Text:\")\n",
    "print(summarized_text)"
   ]
  },
  {
   "cell_type": "code",
   "execution_count": 6,
   "id": "eeef8f7d-b71f-4f5a-938e-3cd5550bb804",
   "metadata": {},
   "outputs": [
    {
     "name": "stdout",
     "output_type": "stream",
     "text": [
      "\n",
      "Bias Analysis:\n",
      "{'bias': {'sequence': 'Artificial intelligence is rapidly advancing, transforming industries and creating new opportunities. Experts believe AI will play a crucial role in the future of technology.', 'labels': ['right-leaning', 'neutral', 'left-leaning'], 'scores': [0.47262051701545715, 0.3575516939163208, 0.16982783377170563]}}\n"
     ]
    }
   ],
   "source": [
    "# 3. Analyze bias for the sample text\n",
    "bias_result = news_app_interaction(\"bias\", article_text=sample_text)\n",
    "print(\"\\nBias Analysis:\")\n",
    "print(bias_result)\n"
   ]
  },
  {
   "cell_type": "code",
   "execution_count": 7,
   "id": "f850050d-fa7c-4f1d-b0f8-3417dbbcfca8",
   "metadata": {},
   "outputs": [
    {
     "name": "stdout",
     "output_type": "stream",
     "text": [
      "\n",
      "Credibility Score:\n",
      "{'credibility_score': 32.18}\n"
     ]
    }
   ],
   "source": [
    "# 4. Compute credibility score for the sample text\n",
    "credibility_result = news_app_interaction(\"credibility\", article_text=sample_text)\n",
    "print(\"\\nCredibility Score:\")\n",
    "print(credibility_result)"
   ]
  },
  {
   "cell_type": "code",
   "execution_count": 8,
   "id": "c7bec3ca-cf74-4316-9b3a-e96ac146710f",
   "metadata": {},
   "outputs": [
    {
     "name": "stdout",
     "output_type": "stream",
     "text": [
      "\n",
      "Multi-Source Comparison:\n",
      "{'comparison': [{'title': 'Nothing Phone (3a) and Phone (3a) Pro leak in full [Gallery] - 9to5Google', 'source': '9to5google.com', 'summary': 'Ahead of the March 4 launch, a full collection of images of the both the Nothing Phone (3a) and Phone (3a) Pro have hit the web, seemingly revealing the full design and core specs.\\r\\nNothing has been … [+1958 chars]', 'bias': {'sequence': 'Ahead of the March 4 launch, a full collection of images of the both the Nothing Phone (3a) and Phone (3a) Pro have hit the web, seemingly revealing the full design and core specs.\\r\\nNothing has been … [+1958 chars]', 'labels': ['right-leaning', 'neutral', 'left-leaning'], 'scores': [0.468912810087204, 0.3357163965702057, 0.19537073373794556]}, 'credibility_score': 30.21}, {'title': 'Here’s how the iPhone 16e compares to iPhone 12, 13, and more - 9to5Mac', 'source': '9to5Mac', 'summary': 'Brought to you by Uniq:\\xa0Check out the new rugged cases from Uniq including the glow in the dark Combat Active iPhone case featuring a textured grip for ultimate control and a reflective lanyard. And … [+7223 chars]', 'bias': {'sequence': 'Brought to you by Uniq:\\xa0Check out the new rugged cases from Uniq including the glow in the dark Combat Active iPhone case featuring a textured grip for ultimate control and a reflective lanyard. And … [+7223 chars]', 'labels': ['right-leaning', 'left-leaning', 'neutral'], 'scores': [0.6638677716255188, 0.19500206410884857, 0.14113013446331024]}, 'credibility_score': 12.7}, {'title': \"All iPhone 17 models to use Apple's in-house Wi-Fi chip - GSMArena.com news - GSMArena.com\", 'source': 'GSMArena.com', 'summary': \"Apple launched the iPhone 16e yesterday, and the device features Apple's first ever self-developed 5G modem, replacing the Qualcomm modems in other iPhones. Apple will allegedly continue this trend o… [+991 chars]\", 'bias': {'sequence': \"Apple launched the iPhone 16e yesterday, and the device features Apple's first ever self-developed 5G modem, replacing the Qualcomm modems in other iPhones. Apple will allegedly continue this trend o… [+991 chars]\", 'labels': ['right-leaning', 'neutral', 'left-leaning'], 'scores': [0.5140928626060486, 0.24909280240535736, 0.23681430518627167]}, 'credibility_score': 22.42}, {'title': 'Research shows AI will try to cheat if it realizes it is about to lose - TechSpot', 'source': 'TechSpot', 'summary': \"Surprise! A recent study showed that some of the newest AI reasoning models aren't above cheating to achieve a goal. Computer scientists found that AI systems can now manipulate chess AIs to gain an … [+3351 chars]\", 'bias': {'sequence': \"Surprise! A recent study showed that some of the newest AI reasoning models aren't above cheating to achieve a goal. Computer scientists found that AI systems can now manipulate chess AIs to gain an … [+3351 chars]\", 'labels': ['right-leaning', 'left-leaning', 'neutral'], 'scores': [0.47510334849357605, 0.2820572853088379, 0.24283938109874725]}, 'credibility_score': 21.86}, {'title': 'Topological quantum processor uses Majorana zero modes for fault-tolerant computing - Phys.org', 'source': 'Phys.Org', 'summary': 'In a leap forward for quantum computing, a Microsoft team led by UC Santa Barbara physicists on Wednesday unveiled an eight-qubit topological quantum processor, the first of its kind. The chip, built… [+5974 chars]', 'bias': {'sequence': 'In a leap forward for quantum computing, a Microsoft team led by UC Santa Barbara physicists on Wednesday unveiled an eight-qubit topological quantum processor, the first of its kind. The chip, built… [+5974 chars]', 'labels': ['right-leaning', 'left-leaning', 'neutral'], 'scores': [0.671761155128479, 0.18803703784942627, 0.14020179212093353]}, 'credibility_score': 12.62}, {'title': 'Nvidia GeForce RTX 5070 Ti review: An RTX 4080 for $749, at least in theory - Ars Technica', 'source': 'Ars Technica', 'summary': 'It’s hard to review a product if you don’t know what it will actually cost!', 'bias': {'sequence': 'It’s hard to review a product if you don’t know what it will actually cost!', 'labels': ['right-leaning', 'neutral', 'left-leaning'], 'scores': [0.5669437646865845, 0.2585473656654358, 0.17450888454914093]}, 'credibility_score': 33.27}, {'title': 'Destiny 2 Officially Makes Exotic Glaives and Swords Bug a Permanent Feature - TheGamePost', 'source': 'Thegamepost.com', 'summary': 'Bungie has confirmed that Exotic Glaives and class-based Swords will remain unlocked across all classes in Destiny 2.\\r\\nDestiny 2s latest episode, Heresy, has brought plenty of fresh content for playe… [+2393 chars]', 'bias': {'sequence': 'Bungie has confirmed that Exotic Glaives and class-based Swords will remain unlocked across all classes in Destiny 2.\\r\\nDestiny 2s latest episode, Heresy, has brought plenty of fresh content for playe… [+2393 chars]', 'labels': ['right-leaning', 'left-leaning', 'neutral'], 'scores': [0.5070499777793884, 0.24771693348884583, 0.24523313343524933]}, 'credibility_score': 22.07}, {'title': 'Inside the Humane acquisition: HP offers big raises to some, others immediately laid off - TechCrunch', 'source': 'TechCrunch', 'summary': 'Humane, formerly one of Silicon Valley’s buzziest AI hardware startups, announced on Tuesday it was being partially acquired by HP for $116 million, which is less than half of the $240 million the st… [+5473 chars]', 'bias': {'sequence': 'Humane, formerly one of Silicon Valley’s buzziest AI hardware startups, announced on Tuesday it was being partially acquired by HP for $116 million, which is less than half of the $240 million the st… [+5473 chars]', 'labels': ['right-leaning', 'neutral', 'left-leaning'], 'scores': [0.4776906669139862, 0.299837589263916, 0.2224717140197754]}, 'credibility_score': 26.99}, {'title': \"World's Thinnest Foldable Phone Launches in Europe and Asia - MacRumors\", 'source': 'MacRumors', 'summary': \"Oppo has launched the Find N5, the world's thinnest foldable phone yet. When closed, the book-style foldable measures 8.93mm. That's less than a millimeter thicker than an iPhone 16 Pro, and thinner … [+2322 chars]\", 'bias': {'sequence': \"Oppo has launched the Find N5, the world's thinnest foldable phone yet. When closed, the book-style foldable measures 8.93mm. That's less than a millimeter thicker than an iPhone 16 Pro, and thinner … [+2322 chars]\", 'labels': ['right-leaning', 'neutral', 'left-leaning'], 'scores': [0.6420297026634216, 0.18078967928886414, 0.17718058824539185]}, 'credibility_score': 16.27}, {'title': 'Leaked details reveal potential pricing for Lego’s Nintendo Game Boy - The Verge', 'source': 'The Verge', 'summary': 'We still dont know what Legos brick-built Nintendo Game Boy will look like, but it might not break the bank.\\r\\nWe still dont know what Legos brick-built Nintendo Game Boy will look like, but it might … [+1441 chars]', 'bias': {'sequence': 'We still dont know what Legos brick-built Nintendo Game Boy will look like, but it might not break the bank.\\r\\nWe still dont know what Legos brick-built Nintendo Game Boy will look like, but it might … [+1441 chars]', 'labels': ['right-leaning', 'neutral', 'left-leaning'], 'scores': [0.5708344578742981, 0.2754899859428406, 0.15367555618286133]}, 'credibility_score': 34.79}, {'title': 'Free Upgrade for Grand Theft Auto V on PC Coming March 4 - Rockstar Games', 'source': 'Rockstargames.com', 'summary': 'On March 4, Grand Theft Auto V on PC is getting a free upgrade featuring sought-after enhancements previously only available in the PS5 and Xbox Series X|S versions of GTA Online — including all the latest vehicles and performance upgrades available at...', 'bias': {'sequence': 'On March 4, Grand Theft Auto V on PC is getting a free upgrade featuring sought-after enhancements previously only available in the PS5 and Xbox Series X|S versions of GTA Online — including all the latest vehicles and performance upgrades available at...', 'labels': ['right-leaning', 'neutral', 'left-leaning'], 'scores': [0.5220369696617126, 0.28533345460891724, 0.1926296204328537]}, 'credibility_score': 30.68}, {'title': 'Nvidia just made it easier to buy a new RTX 5090 or RTX 5080 gaming GPU - PCGamesN', 'source': 'PCGamesN', 'summary': 'We may earn a commission when you buy through links in our articles. Learn more.\\r\\nThe Verified Priority Access program will allow some users the chance to buy a new Nvidia GeForce RTX 5090 or RTX 508… [+2603 chars]', 'bias': {'sequence': 'We may earn a commission when you buy through links in our articles. Learn more.\\r\\nThe Verified Priority Access program will allow some users the chance to buy a new Nvidia GeForce RTX 5090 or RTX 508… [+2603 chars]', 'labels': ['right-leaning', 'neutral', 'left-leaning'], 'scores': [0.39515623450279236, 0.36758148670196533, 0.2372622936964035]}, 'credibility_score': 38.08}, {'title': 'iPhone 15 Pro to Get Visual Intelligence in Future Update, Likely iOS 18.4 - MacRumors', 'source': 'MacRumors', 'summary': \"Apple's new iPhone 16e, announced on Wednesday, supports Visual Intelligence despite having no Camera Control button, and now Apple has confirmed that the Apple Intelligence feature is coming to the … [+1385 chars]\", 'bias': {'sequence': \"Apple's new iPhone 16e, announced on Wednesday, supports Visual Intelligence despite having no Camera Control button, and now Apple has confirmed that the Apple Intelligence feature is coming to the … [+1385 chars]\", 'labels': ['right-leaning', 'neutral', 'left-leaning'], 'scores': [0.5047526359558105, 0.305148184299469, 0.19009920954704285]}, 'credibility_score': 27.46}, {'title': 'AI cracks superbug problem in two days that took scientists years - BBC.com', 'source': 'BBC News', 'summary': 'Tom Gerken\\r\\nCases of tuberculosis (pictured) have increased in the UK and worldwide as the disease increases its resistance to antibiotics\\r\\nA complex problem that took microbiologists a decade to get… [+2992 chars]', 'bias': {'sequence': 'Tom Gerken\\r\\nCases of tuberculosis (pictured) have increased in the UK and worldwide as the disease increases its resistance to antibiotics\\r\\nA complex problem that took microbiologists a decade to get… [+2992 chars]', 'labels': ['right-leaning', 'left-leaning', 'neutral'], 'scores': [0.6169372200965881, 0.29444947838783264, 0.08861333131790161]}, 'credibility_score': 12.98}, {'title': 'Generative AI tool marks a milestone in biology - Stanford University News', 'source': 'Stanford.edu', 'summary': 'magineImagine being able to speed up evolution hypothetically to learn which genes might have a harmful or beneficial effect on human health. Imagine, further, being able to rapidly generate new gene… [+6619 chars]', 'bias': {'sequence': 'magineImagine being able to speed up evolution hypothetically to learn which genes might have a harmful or beneficial effect on human health. Imagine, further, being able to rapidly generate new gene… [+6619 chars]', 'labels': ['right-leaning', 'neutral', 'left-leaning'], 'scores': [0.5119547843933105, 0.2719869613647461, 0.21605828404426575]}, 'credibility_score': 29.48}, {'title': \"I've been using the Samsung Galaxy S25 for weeks — these are my favorite features - Android Central\", 'source': 'Android Central', 'summary': \"The new Samsung Galaxy S25 series is arguably as much about fresh software features as it is about upgraded hardware. Yes, there's a new Snapdragon 8 Elite for Galaxy chipset and other improvements, … [+7961 chars]\", 'bias': {'sequence': \"The new Samsung Galaxy S25 series is arguably as much about fresh software features as it is about upgraded hardware. Yes, there's a new Snapdragon 8 Elite for Galaxy chipset and other improvements, … [+7961 chars]\", 'labels': ['right-leaning', 'neutral', 'left-leaning'], 'scores': [0.538902997970581, 0.32995641231536865, 0.1311405897140503]}, 'credibility_score': 34.7}]}\n"
     ]
    }
   ],
   "source": [
    "# 5. Multi-source comparison: summarize, analyze bias, and compute credibility for each article\n",
    "comparison_result = news_app_interaction(\"compare\", domain=domain)\n",
    "print(\"\\nMulti-Source Comparison:\")\n",
    "print(comparison_result)"
   ]
  },
  {
   "cell_type": "code",
   "execution_count": 10,
   "id": "9ebf1536-6573-45a0-a36a-c2a7895f6822",
   "metadata": {},
   "outputs": [
    {
     "name": "stdout",
     "output_type": "stream",
     "text": [
      "\n",
      "Aggregated and Summarized Articles:\n",
      "{'aggregated_result': {'error': 'No credible articles found.'}}\n"
     ]
    }
   ],
   "source": [
    "# 6. Aggregate articles, filter out low-credibility ones, and generate a final summary.\n",
    "aggregated_result = news_app_interaction(\"aggregate\", domain=domain, credibility_threshold=50)\n",
    "print(\"\\nAggregated and Summarized Articles:\")\n",
    "print(aggregated_result)\n"
   ]
  },
  {
   "cell_type": "code",
   "execution_count": null,
   "id": "f67fea45-f0f9-40bd-86a3-121e53836491",
   "metadata": {},
   "outputs": [],
   "source": []
  }
 ],
 "metadata": {
  "kernelspec": {
   "display_name": "Python 3 (ipykernel)",
   "language": "python",
   "name": "python3"
  },
  "language_info": {
   "codemirror_mode": {
    "name": "ipython",
    "version": 3
   },
   "file_extension": ".py",
   "mimetype": "text/x-python",
   "name": "python",
   "nbconvert_exporter": "python",
   "pygments_lexer": "ipython3",
   "version": "3.13.2"
  }
 },
 "nbformat": 4,
 "nbformat_minor": 5
}
